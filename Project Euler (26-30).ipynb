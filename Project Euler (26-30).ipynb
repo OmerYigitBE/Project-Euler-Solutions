{
 "cells": [
  {
   "cell_type": "markdown",
   "metadata": {},
   "source": [
    "# 26.) Reciprocal Cycles\n",
    "\n",
    "A unit fraction contains 1 in the numerator. The decimal representation of the unit fractions with denominators 2 to 10 are given:\n",
    "\n",
    "$$1/2\t= \t0.5$$\n",
    "$$1/3\t= \t0.(3)$$\n",
    "$$1/4\t= \t0.25$$\n",
    "$$1/5\t= \t0.2$$\n",
    "$$1/6\t= \t0.1(6)$$\n",
    "$$1/7\t= \t0.(142857)$$\n",
    "$$1/8\t= \t0.125$$\n",
    "$$1/9\t= \t0.(1)$$\n",
    "$$1/10\t= \t0.1$$\n",
    "\n",
    "Where 0.1(6) means 0.166666..., and has a 1-digit recurring cycle. It can be seen that 1/7 has a 6-digit recurring cycle.\n",
    "\n",
    "Find the value of d < 1000 for which 1/d contains the longest recurring cycle in its decimal fraction part."
   ]
  },
  {
   "cell_type": "code",
   "execution_count": 31,
   "metadata": {},
   "outputs": [
    {
     "name": "stdout",
     "output_type": "stream",
     "text": [
      "983\n"
     ]
    }
   ],
   "source": [
    "# STEP 1: GETTING THE NUMBER OF RECURRING CYCLE\n",
    "\n",
    "def recurringCycle(n):\n",
    "    cycle = []\n",
    "    \n",
    "    remainder = 1%n\n",
    "    \n",
    "    while (True):\n",
    "        remainder *= 10\n",
    "        remainder %= n\n",
    "        \n",
    "        if (remainder == 0):\n",
    "            return (0)\n",
    "        \n",
    "        else:\n",
    "            if (remainder not in cycle):\n",
    "                cycle.append(remainder)\n",
    "            else:\n",
    "                break\n",
    "\n",
    "    return (len(cycle))\n",
    "        \n",
    "        \n",
    "\n",
    "# STEP 2: SOLUTION\n",
    "\n",
    "cycles = {}\n",
    "\n",
    "for i in range(1,1000):\n",
    "    cycles[i] = recurringCycle(i)\n",
    "    \n",
    "result = max(cycles, key=cycles.get)\n",
    "\n",
    "print(result)"
   ]
  },
  {
   "cell_type": "markdown",
   "metadata": {},
   "source": [
    "# 27.) Quadratic Primes\n",
    "\n",
    "Euler discovered the remarkable quadratic formula:\n",
    "\n",
    "$$ n^{2} + n + 41 $$\n",
    "\n",
    "It turns out that the formula will produce 40 primes for the consecutive integer values $ 0 \\le n \\le 39$ . However, when $n = 40, 40^{2} + 40 + 41 = 40(40+1) + 41$ is divisible by 41, and certainly when $n = 41, 41^{2} + 41 + 41$ is clearly divisible by 41.\n",
    "\n",
    "The incredible formula $ n^{2} - 79n + 1601 $ was discovered, which produces 80 primes for the consecutive values $ 0 \\le n \\le 79$. The product of the coefficients, −79 and 1601, is −126479.\n",
    "\n",
    "Considering quadratics of the form:\n",
    "\n",
    "$$ n^{2} + an + b $$\n",
    "$$|a| < 1000, |b| \\le 1000 $$\n",
    "\n",
    "Find the product of the coefficients, a and b, for the quadratic expression that produces the maximum number of primes for consecutive values of b, starting with $n = 0$."
   ]
  },
  {
   "cell_type": "code",
   "execution_count": 47,
   "metadata": {},
   "outputs": [
    {
     "name": "stdout",
     "output_type": "stream",
     "text": [
      "-59231\n"
     ]
    }
   ],
   "source": [
    "# STEP 1: PRIME NUMBER FUNCTION\n",
    "\n",
    "def isPrime(n):\n",
    "    \n",
    "    # No number smaller than 2 is prime\n",
    "    if n < 2:\n",
    "        return False\n",
    "\n",
    "    # Loop over the numbers between 2 and squareroot.\n",
    "    for number in range(2, int(n**0.5 - 1)):\n",
    "        # If there is a possible division...\n",
    "        if n % number == 0:\n",
    "            # ... it's not a prime number.\n",
    "            return False\n",
    "    \n",
    "    # Default state is a prime number\n",
    "    return True\n",
    "\n",
    "# STEP 2: PRIME NUMBER LIST UNTIL A TARGET\n",
    "\n",
    "def primes_below(target):\n",
    "    if target < 2:\n",
    "        return []\n",
    "    \n",
    "    check = (target//2) - 1\n",
    "    \n",
    "    primes = [True]*check  \n",
    "    \n",
    "    for i in range(int(check**0.5)):  \n",
    "        if primes[i]:\n",
    "            for j in range(2*i*(i + 3) + 3, check, 2*i + 3):\n",
    "                primes[j] = False  \n",
    "    \n",
    "    return [2] + [i*2 + 3 for i, j in enumerate(primes) if j]\n",
    "\n",
    "# Prime numbers until 1000\n",
    "# b needs to be prime.\n",
    "primes = primes_below(1000)\n",
    "\n",
    "\n",
    "# STEP 3: SOLUTION\n",
    "\n",
    "longest = 0\n",
    "\n",
    "for b in primes: \n",
    "    for a in range(-999, 1000, 2):\n",
    "        temp = b\n",
    "        n = 0\n",
    "        while isPrime(temp):\n",
    "            n += 1\n",
    "            temp = n**2 + a*n + b\n",
    "        if n > longest:\n",
    "            longest = n\n",
    "            result = a*b\n",
    "            \n",
    "print(result)"
   ]
  },
  {
   "cell_type": "markdown",
   "metadata": {},
   "source": [
    "# 28.) Number Spiral Diagonals\n",
    "\n",
    "Starting with the number 1 and moving to the right in a clockwise direction a 5 by 5 spiral is formed as follows:\n",
    "\n",
    "$$\\color{red}{\\text{21}}\\;22\\;23\\;24\\;\\color{red}{\\text{25}}$$\n",
    "$$20\\;\\;\\color{red}{\\text{7}}\\;\\;8\\;\\;\\color{red}{\\text{9}}\\;\\;10$$\n",
    "$$19\\;\\;6\\;\\;\\color{red}{\\text{1}}\\;\\;2\\;\\;11$$\n",
    "$$18\\;\\;\\color{red}{\\text{5}}\\;\\;4\\;\\;\\color{red}{\\text{3}}\\;\\;12$$\n",
    "$$\\color{red}{\\text{17}}\\;16\\;15\\;14\\;\\color{red}{\\text{13}}$$\n",
    "\n",
    "It can be verified that the sum of the numbers on the diagonals is 101.\n",
    "\n",
    "What is the sum of the numbers on the diagonals in a 1001 by 1001 spiral formed in the same way?"
   ]
  },
  {
   "cell_type": "code",
   "execution_count": 50,
   "metadata": {},
   "outputs": [
    {
     "name": "stdout",
     "output_type": "stream",
     "text": [
      "669171001\n"
     ]
    }
   ],
   "source": [
    "# Center point\n",
    "result = 1\n",
    "\n",
    "# Looping\n",
    "number = 1\n",
    "increase = 2\n",
    "count = 0\n",
    "while (number < 1001**2):\n",
    "    number += increase\n",
    "    result += number\n",
    "    count += 1\n",
    "    if (count % 4 == 0):\n",
    "        increase += 2\n",
    "        \n",
    "print(result)"
   ]
  },
  {
   "cell_type": "markdown",
   "metadata": {},
   "source": [
    "# 29.) Distinct Powers\n",
    "\n",
    "Consider all integer combinations of $a^{b}$ for 2 ≤ a ≤ 5 and 2 ≤ b ≤ 5:\n",
    "\n",
    "If they are then placed in numerical order, with any repeats removed, we get the following sequence of 15 distinct terms:\n",
    "\n",
    "4, 8, 9, 16, 25, 27, 32, 64, 81, 125, 243, 256, 625, 1024, 3125\n",
    "\n",
    "How many distinct terms are in the sequence generated by ab for 2 ≤ a ≤ 100 and 2 ≤ b ≤ 100?"
   ]
  },
  {
   "cell_type": "code",
   "execution_count": 51,
   "metadata": {},
   "outputs": [
    {
     "name": "stdout",
     "output_type": "stream",
     "text": [
      "9183\n"
     ]
    }
   ],
   "source": [
    "powers = []\n",
    "\n",
    "for a in range(2,101):\n",
    "    for b in range(2,101):\n",
    "        powers.append(a**b)\n",
    "\n",
    "result = len(set(powers))\n",
    "\n",
    "print(result)"
   ]
  },
  {
   "cell_type": "markdown",
   "metadata": {},
   "source": [
    "# 30.) Digit Fifth Powers\n",
    "\n",
    "Surprisingly there are only three numbers that can be written as the sum of fourth powers of their digits:\n",
    "\n",
    "$$1634 = 1^{4} + 6^{4} + 3^{4} + 4^{4}$$\n",
    "$$8208 = 8^{4} + 2^{4} + 0^{4} + 8^{4}$$\n",
    "$$9474 = 9^{4} + 4^{4} + 7^{4} + 4^{4}$$\n",
    "\n",
    "As 1 = $1^{4}$ is not a sum it is not included.\n",
    "\n",
    "The sum of these numbers is 1634 + 8208 + 9474 = 19316.\n",
    "\n",
    "Find the sum of all the numbers that can be written as the sum of fifth powers of their digits."
   ]
  },
  {
   "cell_type": "code",
   "execution_count": 70,
   "metadata": {},
   "outputs": [
    {
     "name": "stdout",
     "output_type": "stream",
     "text": [
      "443839\n"
     ]
    }
   ],
   "source": [
    "# STEP 1: FINDING UPPER BOUND\n",
    "\n",
    "limit = 200000 #More accurate number can be found.\n",
    "power = 5\n",
    "\n",
    "\n",
    "# STEP 2: DIGIT POWER SUM FUNCTION\n",
    "\n",
    "def digitPowerSum(n, power):\n",
    "    number = str(n)\n",
    "    total = 0\n",
    "    for digit in number:\n",
    "        total += int(digit)**power\n",
    "    return total\n",
    "\n",
    "\n",
    "# STEP 3: SOLUTION\n",
    "\n",
    "result = 0\n",
    "\n",
    "for i in range(2, limit):\n",
    "    if (digitPowerSum(i,power) == i):\n",
    "        result += i\n",
    "\n",
    "print(result) #443839"
   ]
  }
 ],
 "metadata": {
  "kernelspec": {
   "display_name": "Python 3",
   "language": "python",
   "name": "python3"
  },
  "language_info": {
   "codemirror_mode": {
    "name": "ipython",
    "version": 3
   },
   "file_extension": ".py",
   "mimetype": "text/x-python",
   "name": "python",
   "nbconvert_exporter": "python",
   "pygments_lexer": "ipython3",
   "version": "3.8.5"
  }
 },
 "nbformat": 4,
 "nbformat_minor": 4
}
