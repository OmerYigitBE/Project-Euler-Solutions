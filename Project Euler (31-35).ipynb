{
 "cells": [
  {
   "cell_type": "markdown",
   "metadata": {},
   "source": [
    "# 31.) Coin Sums\n",
    "\n",
    "In the United Kingdom the currency is made up of pound (£) and pence (p). There are eight coins in general circulation:\n",
    "\n",
    "1p, 2p, 5p, 10p, 20p, 50p, £1 (100p), and £2 (200p).\n",
    "\n",
    "It is possible to make £2 in the following way:\n",
    "\n",
    "1×£1 + 1×50p + 2×20p + 1×5p + 1×2p + 3×1p\n",
    "\n",
    "How many different ways can £2 be made using any number of coins?"
   ]
  },
  {
   "cell_type": "code",
   "execution_count": 220,
   "metadata": {},
   "outputs": [
    {
     "data": {
      "text/plain": [
       "73682"
      ]
     },
     "execution_count": 220,
     "metadata": {},
     "output_type": "execute_result"
    }
   ],
   "source": [
    "target= 200\n",
    "coins = [1, 2, 5, 10, 20, 50, 100, 200]\n",
    "\n",
    "table = [0 for i in range (target+1)]\n",
    "\n",
    "table[0] = 1\n",
    "\n",
    "for i in range(len(coins)):\n",
    "    for j in range(coins[i], target+1):\n",
    "        table[j] += table[j - coins[i]]\n",
    "\n",
    "\n",
    "solution = table[target]\n",
    "\n",
    "print(solution) #73682"
   ]
  },
  {
   "cell_type": "markdown",
   "metadata": {},
   "source": [
    "# 32.) Pandigital Products\n",
    "\n",
    "We shall say that an n-digit number is pandigital if it makes use of all the digits 1 to n exactly once; for example, the 5-digit number, 15234, is 1 through 5 pandigital.\n",
    "\n",
    "The product 7254 is unusual, as the identity, 39 × 186 = 7254, containing multiplicand, multiplier, and product is 1 through 9 pandigital.\n",
    "\n",
    "Find the sum of all products whose multiplicand/multiplier/product identity can be written as a 1 through 9 pandigital.\n",
    "\n",
    "**HINT**: Some products can be obtained in more than one way so be sure to only include it once in your sum."
   ]
  },
  {
   "cell_type": "code",
   "execution_count": 248,
   "metadata": {},
   "outputs": [
    {
     "name": "stdout",
     "output_type": "stream",
     "text": [
      "45228\n"
     ]
    }
   ],
   "source": [
    "# STEP 1: INITIAL SETUP\n",
    "\n",
    "# It's always 2digit*3digit=4digit, or\n",
    "#             1digit*4digit=4digit\n",
    "\n",
    "\n",
    "one = [i for i in range (1,10)]\n",
    "two = [i for i in range (1,100)]\n",
    "three = [i for i in range (100,1000)]\n",
    "four = [i for i in range (1000,10000)]\n",
    "\n",
    "test = [str(i) for i in range(1,10)]\n",
    "\n",
    "pandigital = []\n",
    "\n",
    "\n",
    "# STEP 2: SOLUTION\n",
    "\n",
    "for multiplicand in two:\n",
    "    for multiplier in three:\n",
    "        product = multiplicand*multiplier\n",
    "        if (sorted(str(multiplicand)+str(multiplier)+str(product)) == test):\n",
    "            if (product not in pandigital):\n",
    "                pandigital.append(product)\n",
    "                \n",
    "for multiplicand in one:\n",
    "    for multiplier in four:\n",
    "        product = multiplicand*multiplier\n",
    "        if (sorted(str(multiplicand)+str(multiplier)+str(product)) == test):\n",
    "            if (product not in pandigital):\n",
    "                pandigital.append(product)\n",
    "\n",
    "solution = sum(pandigital)\n",
    "\n",
    "print(solution) #45228"
   ]
  },
  {
   "cell_type": "markdown",
   "metadata": {},
   "source": [
    "# 33.) Digit Cancelling Fractions\n",
    "\n",
    "The fraction 49/98 is a curious fraction, as an inexperienced mathematician in attempting to simplify it may incorrectly believe that 49/98 = 4/8, which is correct, is obtained by cancelling the 9s.\n",
    "\n",
    "We shall consider fractions like, 30/50 = 3/5, to be trivial examples.\n",
    "\n",
    "There are exactly four non-trivial examples of this type of fraction, less than one in value, and containing two digits in the numerator and denominator.\n",
    "\n",
    "If the product of these four fractions is given in its lowest common terms, find the value of the denominator."
   ]
  },
  {
   "cell_type": "code",
   "execution_count": 298,
   "metadata": {},
   "outputs": [
    {
     "data": {
      "text/plain": [
       "[387296, 38729600]"
      ]
     },
     "execution_count": 298,
     "metadata": {},
     "output_type": "execute_result"
    }
   ],
   "source": [
    "import numpy as np\n",
    "\n",
    "# STEP 1: COMMON NUMBER\n",
    "\n",
    "# Functions to divide a number\n",
    "def ones(n):\n",
    "    return(n%10)\n",
    "\n",
    "def tens(n):\n",
    "    return(int((n - ones(n))/10))\n",
    "\n",
    "# Function for digit cancelling ratio\n",
    "def digitCancellingFraction(x,y):\n",
    "    if (ones(x)==ones(y) and ones(x) != 0):\n",
    "        return (tens(x)/tens(y))\n",
    "    if (ones(x)==tens(y) and ones(y) != 0):\n",
    "        return (tens(x)/ones(y))\n",
    "    if (tens(x)==ones(y)):\n",
    "        return (ones(x)/tens(y))\n",
    "    if (tens(x)==tens(y)):\n",
    "        return (ones(x)/ones(y))\n",
    "\n",
    "# STEP 2: NON-TRIVIAL EXAMPLES\n",
    "\n",
    "fractions = {\"x\":[], \"y\":[]}\n",
    "\n",
    "for x in range(10,100):\n",
    "    for y in range(x+1,100):\n",
    "        if(x/y == digitCancellingFraction(x,y)):\n",
    "            fractions[\"x\"].append(x)\n",
    "            fractions[\"y\"].append(y)\n",
    "\n",
    "\n",
    "# STEP 3: SOLUTION\n",
    "\n",
    "product_fractions = [np.prod(fractions[\"x\"]), np.prod(fractions[\"y\"])]\n",
    "\n",
    "product_fractions # Solution = 100"
   ]
  },
  {
   "cell_type": "markdown",
   "metadata": {},
   "source": [
    "# 34.) Digit Factorials\n",
    "\n",
    "145 is a curious number, as 1! + 4! + 5! = 1 + 24 + 120 = 145.\n",
    "\n",
    "Find the sum of all numbers which are equal to the sum of the factorial of their digits.\n",
    "\n",
    "Note: As 1! = 1 and 2! = 2 are not sums they are not included."
   ]
  },
  {
   "cell_type": "code",
   "execution_count": 308,
   "metadata": {},
   "outputs": [
    {
     "name": "stdout",
     "output_type": "stream",
     "text": [
      "40730\n"
     ]
    }
   ],
   "source": [
    "# STEP 1: FACTORIAL FUNCTION\n",
    "\n",
    "def factorial(n):\n",
    "    if (n == 0 or n == 1):\n",
    "        return (1)\n",
    "    else:\n",
    "        return (n * factorial(n-1))\n",
    "    \n",
    "# STEP 2: DIGIT FACTORIAL SUM\n",
    "\n",
    "def digitFactorialSum(n):\n",
    "    if (n < 3):\n",
    "        return 0\n",
    "    number = str(n)\n",
    "    total = 0\n",
    "    for digit in number:\n",
    "        total += factorial(int(digit))\n",
    "    return (total)\n",
    "\n",
    "# STEP 3: SOLUTION\n",
    "\n",
    "# Upper bound is needed.\n",
    "limit = 100000\n",
    "\n",
    "result = 0\n",
    "\n",
    "for i in range(limit):\n",
    "    if (i == digitFactorialSum(i)):\n",
    "        result += i\n",
    "        \n",
    "print(result)"
   ]
  },
  {
   "cell_type": "markdown",
   "metadata": {},
   "source": [
    "# 35.) Circular Primes\n",
    "\n",
    "The number, 197, is called a circular prime because all rotations of the digits: 197, 971, and 719, are themselves prime.\n",
    "\n",
    "There are thirteen such primes below 100: 2, 3, 5, 7, 11, 13, 17, 31, 37, 71, 73, 79, and 97.\n",
    "\n",
    "How many circular primes are there below one million?"
   ]
  },
  {
   "cell_type": "code",
   "execution_count": 358,
   "metadata": {},
   "outputs": [],
   "source": [
    "# STEP 1: PRIME NUMBERS BELOW 1 MILLION\n",
    "def primes(n):\n",
    "    primes = []\n",
    "    sieve = [True] * (n+1)\n",
    "    for p in range(2, n+1):\n",
    "        if (sieve[p]):\n",
    "            primes.append(p)\n",
    "            for i in range(p, n+1, p):\n",
    "                sieve[i] = False\n",
    "    return (primes)\n",
    "\n",
    "primes_below_million = primes(1000000)\n",
    "\n",
    "# Only odd-digit numbers (without 5) can be circular prime\n",
    "odd_digit_primes = [2,5]\n",
    "for prime in primes_below_million:\n",
    "    number = str(prime)\n",
    "    if (\"0\" not in number and \"2\" not in number and \"4\" not in number and \"6\" not in number and \"8\" not in number and \"5\" not in number):\n",
    "        odd_digit_primes.append(int(number))"
   ]
  },
  {
   "cell_type": "code",
   "execution_count": 360,
   "metadata": {},
   "outputs": [
    {
     "name": "stdout",
     "output_type": "stream",
     "text": [
      "55\n"
     ]
    }
   ],
   "source": [
    "# STEP 2: ROTATIONS\n",
    "def rotations(x):\n",
    "    rotations = [x]\n",
    "    number = str(x)\n",
    "    length = len(number)\n",
    "\n",
    "    for i in range(length-1):\n",
    "        number = (number+number[0])[1:]\n",
    "        rotations.append(int(number))\n",
    "    return (rotations)\n",
    "\n",
    "\n",
    "# STEP 3: ROTATIONAL PRIME\n",
    "def isRotationalPrime(x):\n",
    "    rot = rotations(x)\n",
    "    total = 0\n",
    "    for i in rot:\n",
    "        if (i in primes_below_million):\n",
    "            total += 1\n",
    "\n",
    "    if(total==len(rot)):\n",
    "        return (True)\n",
    "\n",
    "    else:\n",
    "        return (False)\n",
    "\n",
    "# STEP 4: SOLUTION\n",
    "\n",
    "result = 0\n",
    "\n",
    "for i in range(len(odd_digit_primes)):\n",
    "    if (isRotationalPrime(odd_digit_primes[i])==True):\n",
    "        result += 1\n",
    "\n",
    "print(result)"
   ]
  }
 ],
 "metadata": {
  "kernelspec": {
   "display_name": "Python 3",
   "language": "python",
   "name": "python3"
  },
  "language_info": {
   "codemirror_mode": {
    "name": "ipython",
    "version": 3
   },
   "file_extension": ".py",
   "mimetype": "text/x-python",
   "name": "python",
   "nbconvert_exporter": "python",
   "pygments_lexer": "ipython3",
   "version": "3.8.5"
  }
 },
 "nbformat": 4,
 "nbformat_minor": 4
}
