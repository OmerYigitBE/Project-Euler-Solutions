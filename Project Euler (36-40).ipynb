{
 "cells": [
  {
   "cell_type": "markdown",
   "metadata": {},
   "source": [
    "# 36.) Double-Base Palindromes\n",
    "\n",
    "The decimal number, $585 = 1001001001_{2}$ (binary), is palindromic in both bases.\n",
    "\n",
    "Find the sum of all numbers, less than one million, which are palindromic in base 10 and base 2.\n",
    "\n",
    "(Please note that the palindromic number, in either base, may not include leading zeros.)"
   ]
  },
  {
   "cell_type": "code",
   "execution_count": 8,
   "metadata": {},
   "outputs": [
    {
     "name": "stdout",
     "output_type": "stream",
     "text": [
      "872187\n"
     ]
    }
   ],
   "source": [
    "# STEP 1: BINARY TRANSFORMATION\n",
    "def binary(n):\n",
    "    return (int(bin(n)[2:]))\n",
    "\n",
    "# STEP 2: PALINDROMIC CHECK\n",
    "\n",
    "def inverse(n):\n",
    "    number = str(n)\n",
    "    inverse = int(number[::-1])\n",
    "    return (inverse)\n",
    "\n",
    "def isPalindrome(n):\n",
    "    if (n == inverse(n)):\n",
    "        return (True)\n",
    "    else:\n",
    "        return (False)\n",
    "\n",
    "# STEP 3: DOUBLE-BASE PALINDROMES\n",
    "def isDoubleBasePalindrome(n):\n",
    "    if (isPalindrome(n) == True and isPalindrome(binary(n)) == True):\n",
    "        return (True)\n",
    "    else:\n",
    "        return (False)\n",
    "\n",
    "# STEP 4: SOLUTION\n",
    "\n",
    "result = 0\n",
    "\n",
    "for i in range(1, 1000000):\n",
    "    if (isDoubleBasePalindrome(i) == True):\n",
    "        result += i\n",
    "        \n",
    "print(result) #872187"
   ]
  },
  {
   "cell_type": "markdown",
   "metadata": {},
   "source": [
    "# 37.) Truncatable Primes\n",
    "\n",
    "The number 3797 has an interesting property. Being prime itself, it is possible to continuously remove digits from left to right, and remain prime at each stage: 3797, 797, 97, and 7. Similarly we can work from right to left: 3797, 379, 37, and 3.\n",
    "\n",
    "Find the sum of the only eleven primes that are both truncatable from left to right and right to left.\n",
    "\n",
    "NOTE: 2, 3, 5, and 7 are not considered to be truncatable primes."
   ]
  },
  {
   "cell_type": "code",
   "execution_count": 160,
   "metadata": {},
   "outputs": [],
   "source": [
    "# STEP 1: PRIME CHECK\n",
    "def is_prime(n):\n",
    "    if n == 2:\n",
    "        return True\n",
    "    if n % 2 == 0 or n <= 1:\n",
    "        return False\n",
    "\n",
    "    sqr = int(n**0.5) + 1\n",
    "\n",
    "    for divisor in range(3, sqr, 2):\n",
    "        if n % divisor == 0:\n",
    "            return False\n",
    "    return True\n",
    "\n",
    "# STEP 2: TRUNCATIONS\n",
    "def truncations(n):\n",
    "    number = str(n)\n",
    "    trunc = [n]\n",
    "    \n",
    "    for i in range(1,len(number)):\n",
    "        trunc.append(int(number[i:]))\n",
    "        trunc.append(int(number[:-i]))\n",
    "    return (list(set(trunc)))\n",
    "\n",
    "# STEP 3: TRUNCATABLE PRIME CHECK\n",
    "def isTruncatablePrime(n):\n",
    "    count = 0\n",
    "    trunc = truncations(n)\n",
    "    for i in trunc:\n",
    "        if (is_prime(i) == False):\n",
    "            return (False)\n",
    "    return (True)\n",
    "\n",
    "# STEP 4: PRE-ELIMINATION FOR ELIGIBILITY\n",
    "# Valid numbers don't have even numbers, don't have 5, don't have 1 or in the beginning and in the end\n",
    "\n",
    "def isEligible(n):\n",
    "    number = str(n)\n",
    "    if (\"0\" in number or \"2\" in number or \"4\" in number or \"5\" in number or \"6\" in number or \"8\" in number):\n",
    "        return False\n",
    "    else:\n",
    "        if (number[0] == \"1\" or number[-1] == \"1\" or number[0] == \"9\" or number[-1] == \"9\"):\n",
    "            return False\n",
    "        else:\n",
    "            return True"
   ]
  },
  {
   "cell_type": "code",
   "execution_count": 161,
   "metadata": {},
   "outputs": [
    {
     "name": "stdout",
     "output_type": "stream",
     "text": [
      "748317\n"
     ]
    }
   ],
   "source": [
    "# STEP 5: SOLUTION\n",
    "\n",
    "solution = []\n",
    "\n",
    "n = 8\n",
    "while (len(solution) < 11):\n",
    "    #if (isEligible(n)):\n",
    "    if (is_prime(n)):\n",
    "        t = truncations(n)\n",
    "        if (isTruncatablePrime(n)):\n",
    "            solution.append(n)\n",
    "    n += 1\n",
    "    if (n % 1000000 == 0):\n",
    "        print(n)\n",
    "    \n",
    "print(sum(solution)) #748317"
   ]
  },
  {
   "cell_type": "markdown",
   "metadata": {},
   "source": [
    "# 38.) Pandigital Multiples\n",
    "\n",
    "Take the number 192 and multiply it by each of 1, 2, and 3:\n",
    "\n",
    "$$192 × 1 = 192$$\n",
    "$$192 × 2 = 384$$\n",
    "$$192 × 3 = 576$$\n",
    "\n",
    "By concatenating each product we get the 1 to 9 pandigital, 192384576. We will call 192384576 the concatenated product of 192 and (1,2,3)\n",
    "\n",
    "The same can be achieved by starting with 9 and multiplying by 1, 2, 3, 4, and 5, giving the pandigital, 918273645, which is the concatenated product of 9 and (1,2,3,4,5).\n",
    "\n",
    "What is the largest 1 to 9 pandigital 9-digit number that can be formed as the concatenated product of an integer with (1,2, ... , n) where n > 1?"
   ]
  },
  {
   "cell_type": "code",
   "execution_count": 118,
   "metadata": {},
   "outputs": [
    {
     "name": "stdout",
     "output_type": "stream",
     "text": [
      "932718654\n"
     ]
    }
   ],
   "source": [
    "# STEP 1: PANDIGITAL CHECK\n",
    "def isPandigital(n):\n",
    "    check = ['1', '2', '3', '4', '5', '6', '7', '8', '9']\n",
    "    number = str(n)\n",
    "    if (sorted(number) == check):\n",
    "        return True\n",
    "    else:\n",
    "        return False\n",
    "\n",
    "pandigitals = []\n",
    "    \n",
    "for i in range(1,2000000):\n",
    "    digit = \"\"\n",
    "    x = 1\n",
    "    while (len(digit) < 9):\n",
    "        digit += str(i*x)\n",
    "        x += 1\n",
    "    digit = int(digit)\n",
    "    if (isPandigital(digit)):\n",
    "        pandigitals.append(digit)\n",
    "\n",
    "result = max(pandigitals)\n",
    "\n",
    "print(result) #932718654"
   ]
  },
  {
   "cell_type": "markdown",
   "metadata": {},
   "source": [
    "# 39.) Integer Right Triangles\n",
    "\n",
    "If p is the perimeter of a right angle triangle with integral length sides, {a,b,c}, there are exactly three solutions for p = 120.\n",
    "\n",
    "{20,48,52}, {24,45,51}, {30,40,50}\n",
    "\n",
    "For which value of p ≤ 1000, is the number of solutions maximised?"
   ]
  },
  {
   "cell_type": "code",
   "execution_count": null,
   "metadata": {},
   "outputs": [],
   "source": [
    "p = 120\n",
    "\n",
    "# STEP 1: TRIANGULAR CONDITIIONS\n",
    "\n",
    "# (p^2)/2 = p(a+b) - ab\n",
    "# a < p/2\n",
    "# b < p/2\n",
    "\n",
    "def isSolution(a,b):\n",
    "    if((p**2)/2 == p*(a+b)-a*b and a < p/2 and b < p/2):\n",
    "        return True\n",
    "    else:\n",
    "        return False\n",
    "\n",
    "solve = {}\n",
    "for p in range(1,1001):\n",
    "    solutions = 0\n",
    "    for a in range(1,int(p/2)):\n",
    "        for b in range(a,int(p/2)):\n",
    "            if isSolution(a,b):\n",
    "                solutions += 1\n",
    "    solve[p] = solutions\n",
    "\n",
    "result = max(solve, key=solve.get)\n",
    "\n",
    "print(result) #840"
   ]
  },
  {
   "cell_type": "markdown",
   "metadata": {},
   "source": [
    "# 40.) Champernowne's Constant\n",
    "\n",
    "An irrational decimal fraction is created by concatenating the positive integers:\n",
    "\n",
    "$$0.123456789101112131415161718192021...$$\n",
    "\n",
    "It can be seen that the 12th digit of the fractional part is 1.\n",
    "\n",
    "If $d_n$ represents the nth digit of the fractional part, find the value of the following expression.\n",
    "\n",
    "$$d_{1} × d_{10} × d_{100} × d_{1000} × d_{10000} × d_{100000} × d_{1000000}$$"
   ]
  },
  {
   "cell_type": "code",
   "execution_count": 148,
   "metadata": {},
   "outputs": [
    {
     "name": "stdout",
     "output_type": "stream",
     "text": [
      "210\n"
     ]
    }
   ],
   "source": [
    "d = \"0\"\n",
    "\n",
    "n = 1\n",
    "while (len(d) < 1000001):\n",
    "    d += str(n)\n",
    "    n += 1\n",
    "\n",
    "result = int(d[1]) * int(d[10]) * int(d[100]) * int(d[1000]) * int(d[10000]) * int(d[100000]) * int(d[1000000])\n",
    "\n",
    "print(result) #210"
   ]
  }
 ],
 "metadata": {
  "kernelspec": {
   "display_name": "Python 3",
   "language": "python",
   "name": "python3"
  },
  "language_info": {
   "codemirror_mode": {
    "name": "ipython",
    "version": 3
   },
   "file_extension": ".py",
   "mimetype": "text/x-python",
   "name": "python",
   "nbconvert_exporter": "python",
   "pygments_lexer": "ipython3",
   "version": "3.8.5"
  }
 },
 "nbformat": 4,
 "nbformat_minor": 4
}
