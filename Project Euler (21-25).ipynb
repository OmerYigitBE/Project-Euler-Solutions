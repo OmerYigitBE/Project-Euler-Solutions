{
 "cells": [
  {
   "cell_type": "markdown",
   "metadata": {},
   "source": [
    "# 21.) Amicable Numbers\n",
    "\n",
    "Let d(n) be defined as the sum of proper divisors of n (numbers less than n which divide evenly into n).\n",
    "If d(a) = b and d(b) = a, where a ≠ b, then a and b are an amicable pair and each of a and b are called amicable numbers.\n",
    "\n",
    "For example, the proper divisors of 220 are 1, 2, 4, 5, 10, 11, 20, 22, 44, 55 and 110; therefore d(220) = 284. The proper divisors of 284 are 1, 2, 4, 71 and 142; so d(284) = 220.\n",
    "\n",
    "Evaluate the sum of all the amicable numbers under 10000."
   ]
  },
  {
   "cell_type": "code",
   "execution_count": 22,
   "metadata": {},
   "outputs": [
    {
     "name": "stdout",
     "output_type": "stream",
     "text": [
      "31626\n"
     ]
    }
   ],
   "source": [
    "# Importing relevant libraries\n",
    "from math import ceil,sqrt\n",
    "\n",
    "# Function for proper divisors\n",
    "def properDivisor(n):\n",
    "    \n",
    "    # No divisors initally\n",
    "    divisors = [1]\n",
    "    \n",
    "    # Looping until the square-root\n",
    "    for i in range(2, ceil(sqrt(n))):\n",
    "        if (n%i == 0):\n",
    "            divisors.append(i)\n",
    "            divisors.append(int(n/i))\n",
    "    \n",
    "    if (int(sqrt(n))**2 == n):\n",
    "        divisors.append(int(sqrt(n)))\n",
    "    \n",
    "    return (divisors)\n",
    "    \n",
    "# Function for sum of proper divisors \n",
    "def d(n):\n",
    "    return (sum(properDivisor(n)))\n",
    "\n",
    "# Function to check amicable number\n",
    "def isAmicable(n):\n",
    "    sumpropdiv = d(n)\n",
    "    return(d(sumpropdiv) == n and n != sumpropdiv)\n",
    "\n",
    "# Initial result is unknown (0).\n",
    "result = 0\n",
    "\n",
    "# Looping until ten thousand\n",
    "for i in range(3,10000):\n",
    "    if (isAmicable(i)):\n",
    "        result += i\n",
    "\n",
    "print(result) #31626"
   ]
  },
  {
   "cell_type": "markdown",
   "metadata": {},
   "source": [
    "# 22.) Names Scores\n",
    "\n",
    "Using [names.txt](https://projecteuler.net/project/resources/p022_names.txt) (right click and 'Save Link/Target As...'), a 46K text file containing over five-thousand first names, begin by sorting it into alphabetical order. Then working out the alphabetical value for each name, multiply this value by its alphabetical position in the list to obtain a name score.\n",
    "\n",
    "For example, when the list is sorted into alphabetical order, COLIN, which is worth 3 + 15 + 12 + 9 + 14 = 53, is the 938th name in the list. So, COLIN would obtain a score of 938 × 53 = 49714.\n",
    "\n",
    "What is the total of all the name scores in the file?"
   ]
  },
  {
   "cell_type": "code",
   "execution_count": 57,
   "metadata": {},
   "outputs": [
    {
     "name": "stdout",
     "output_type": "stream",
     "text": [
      "871198282\n"
     ]
    }
   ],
   "source": [
    "# STEP 1: Letter dictionary\n",
    "letters = {}\n",
    "alphabet = \"ABCDEFGHIJKLMNOPQRSTUVWXYZ\"\n",
    "\n",
    "pos = 1\n",
    "for letter in alphabet:\n",
    "    letters[letter] = pos\n",
    "    pos += 1\n",
    "\n",
    "# STEP 2: Importing names\n",
    "names = open('p022_names.txt', 'r').read()\n",
    "names = sorted(names[1:-1].split(\"\\\",\\\"\"))\n",
    "\n",
    "# STEP 3: Name score function\n",
    "def nameScore(name):\n",
    "    \n",
    "    score = 0\n",
    "    for letter in name:\n",
    "        score += letters[letter]\n",
    "    \n",
    "    position = names.index(name)+1\n",
    "    \n",
    "    score *= position\n",
    "    \n",
    "    return(score)\n",
    "\n",
    "# STEP 4: Total namescores of the list\n",
    "result = 0\n",
    "\n",
    "for name in names:\n",
    "    result += nameScore(name)\n",
    "\n",
    "print(result) #871198282"
   ]
  },
  {
   "cell_type": "markdown",
   "metadata": {},
   "source": [
    "# 23.) Non-abundant Sums\n",
    "\n",
    "A perfect number is a number for which the sum of its proper divisors is exactly equal to the number. For example, the sum of the proper divisors of 28 would be 1 + 2 + 4 + 7 + 14 = 28, which means that 28 is a perfect number.\n",
    "\n",
    "A number n is called deficient if the sum of its proper divisors is less than n and it is called abundant if this sum exceeds n.\n",
    "\n",
    "As 12 is the smallest abundant number, 1 + 2 + 3 + 4 + 6 = 16, the smallest number that can be written as the sum of two abundant numbers is 24. By mathematical analysis, it can be shown that all integers greater than 28123 can be written as the sum of two abundant numbers. However, this upper limit cannot be reduced any further by analysis even though it is known that the greatest number that cannot be expressed as the sum of two abundant numbers is less than this limit.\n",
    "\n",
    "Find the sum of all the positive integers which cannot be written as the sum of two abundant numbers."
   ]
  },
  {
   "cell_type": "code",
   "execution_count": 91,
   "metadata": {},
   "outputs": [
    {
     "name": "stdout",
     "output_type": "stream",
     "text": [
      "4179871.0\n"
     ]
    }
   ],
   "source": [
    "# STEP 1: DIVISORS & ABUNDANCE\n",
    "\n",
    "# Importing relevant libraries\n",
    "from math import ceil,sqrt\n",
    "\n",
    "# Function for proper divisors\n",
    "def properDivisors(n):\n",
    "    \n",
    "    # No divisors initally\n",
    "    divisors = [1]\n",
    "    \n",
    "    # Looping until the square-root\n",
    "    for i in range(2, ceil(sqrt(n))):\n",
    "        if (n%i == 0):\n",
    "            divisors.append(i)\n",
    "            divisors.append(int(n/i))\n",
    "    \n",
    "    if (int(sqrt(n))**2 == n):\n",
    "        divisors.append(int(sqrt(n)))\n",
    "    \n",
    "    return (divisors)\n",
    "\n",
    "# Function for number feature\n",
    "def feature(n):\n",
    "    sum_of_proper_divisors = sum(properDivisors(n))\n",
    "    \n",
    "    if(sum_of_proper_divisors == n):\n",
    "        return(\"perfect\")\n",
    "    elif(sum_of_proper_divisors < n):\n",
    "        return(\"deficient\")\n",
    "    else:\n",
    "        return(\"abundant\")\n",
    "    \n",
    "# STEP 2: LIST OF ABUNDANT NUMBERS\n",
    "\n",
    "# Upper limit is also given\n",
    "limit = 28123+1\n",
    "\n",
    "abundant_numbers = []\n",
    "\n",
    "for i in range(2,limit):\n",
    "    if (feature(i)==\"abundant\"):\n",
    "        abundant_numbers.append(i)\n",
    "\n",
    "# STEP 3: CHECKING POSSIBILITY OF TWO ABUNDANT SUMS\n",
    "\n",
    "def isTwoAbundantSum(n):\n",
    "    \n",
    "    # Subsetting\n",
    "    subset = [i for i in abundant_numbers if i < n]\n",
    "    \n",
    "    for i in subset:\n",
    "        if(n-i in subset):\n",
    "            return(True)\n",
    "    return(False)\n",
    "        \n",
    "    \n",
    "# STEP 4: CALCULATING THE RESULT\n",
    "\n",
    "# Initial result is the sum of first 23 numbers\n",
    "# (which can't be written as the sum of 2 abundant numbers)\n",
    "result = 23*(23+1)/2\n",
    "\n",
    "# It starts from 25.\n",
    "\n",
    "for i in range(25, limit):\n",
    "    if(isTwoAbundantSum(i)==False):\n",
    "        result += i\n",
    "        \n",
    "print(result) #4179871\n",
    "\n",
    "# Very long solution, can be shortened with a more clever approach."
   ]
  },
  {
   "cell_type": "markdown",
   "metadata": {},
   "source": [
    "# 24.) Lexicographic Permutations\n",
    "\n",
    "A permutation is an ordered arrangement of objects. For example, 3124 is one possible permutation of the digits 1, 2, 3 and 4. If all of the permutations are listed numerically or alphabetically, we call it lexicographic order. The lexicographic permutations of 0, 1 and 2 are:\n",
    "\n",
    "$$012 \\;  021 \\;  102 \\;  120 \\;  201 \\;  210$$\n",
    "\n",
    "What is the millionth lexicographic permutation of the digits 0, 1, 2, 3, 4, 5, 6, 7, 8 and 9?"
   ]
  },
  {
   "cell_type": "code",
   "execution_count": 104,
   "metadata": {},
   "outputs": [
    {
     "name": "stdout",
     "output_type": "stream",
     "text": [
      "2783915460\n"
     ]
    }
   ],
   "source": [
    "# STEP 1: ALL PERMUTATIONS\n",
    "\n",
    "# Importing relevant libraries\n",
    "from itertools import permutations\n",
    "\n",
    "permutations = [''.join(p) for p in permutations('0123456789')]\n",
    "\n",
    "# STEP 2: RESULT\n",
    "\n",
    "result = permutations[999999]\n",
    "\n",
    "print(result) #2783915460"
   ]
  },
  {
   "cell_type": "markdown",
   "metadata": {},
   "source": [
    "# 25.) 1000-Digit Fibonacci Number\n",
    "\n",
    "The Fibonacci sequence is defined by the recurrence relation:\n",
    "\n",
    "$F_{n} = F_{n-1} + F_{n-2}$, where $F_{1} = 1$ and $F_{2} = 1$.\n",
    "Hence the first 12 terms will be:\n",
    "\n",
    "$$F_{1} = 1$$\n",
    "$$F_{2} = 1$$\n",
    "$$F_{3} = 2$$\n",
    "$$F_{4} = 3$$\n",
    "$$F_{5} = 5$$\n",
    "$$F_{6} = 8$$\n",
    "$$F_{7} = 13$$\n",
    "$$F_{8} = 21$$\n",
    "$$F_{9} = 34$$\n",
    "$$F_{10} = 55$$\n",
    "$$F_{11} = 89$$\n",
    "$$F_{12} = 144$$\n",
    "\n",
    "\n",
    "The 12th term, $F_{12}$, is the first term to contain three digits.\n",
    "\n",
    "What is the index of the first term in the Fibonacci sequence to contain 1000 digits?"
   ]
  },
  {
   "cell_type": "code",
   "execution_count": 134,
   "metadata": {},
   "outputs": [
    {
     "name": "stdout",
     "output_type": "stream",
     "text": [
      "4782\n"
     ]
    }
   ],
   "source": [
    "# Fibonacci sequence\n",
    "fib = [1,1]\n",
    "\n",
    "i = 3\n",
    "while(len(str(fib[-1])) < 1000):\n",
    "    n_2 = fib[-2]\n",
    "    n_1 = fib[-1]\n",
    "    next_fib = n_2+n_1\n",
    "    fib[-2] = n_1\n",
    "    fib[-1] = next_fib\n",
    "    i += 1\n",
    "\n",
    "result = i-1\n",
    "\n",
    "print(result) #4782"
   ]
  }
 ],
 "metadata": {
  "kernelspec": {
   "display_name": "Python 3",
   "language": "python",
   "name": "python3"
  },
  "language_info": {
   "codemirror_mode": {
    "name": "ipython",
    "version": 3
   },
   "file_extension": ".py",
   "mimetype": "text/x-python",
   "name": "python",
   "nbconvert_exporter": "python",
   "pygments_lexer": "ipython3",
   "version": "3.8.5"
  }
 },
 "nbformat": 4,
 "nbformat_minor": 4
}
