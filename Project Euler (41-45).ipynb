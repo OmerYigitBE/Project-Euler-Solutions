{
 "cells": [
  {
   "cell_type": "markdown",
   "metadata": {},
   "source": [
    "# 41.) Pandigital Prime\n",
    "\n",
    "We shall say that an n-digit number is pandigital if it makes use of all the digits 1 to n exactly once. For example, 2143 is a 4-digit pandigital and is also prime.\n",
    "\n",
    "What is the largest n-digit pandigital prime that exists?"
   ]
  },
  {
   "cell_type": "code",
   "execution_count": 27,
   "metadata": {},
   "outputs": [
    {
     "name": "stdout",
     "output_type": "stream",
     "text": [
      "7652413\n"
     ]
    }
   ],
   "source": [
    "# STEP 1: PRIME CHECK\n",
    "def isPrime(n):\n",
    "    if n == 2:\n",
    "        return True\n",
    "    if n % 2 == 0 or n <= 1:\n",
    "        return False\n",
    "\n",
    "    sqr = int(n**0.5) + 1\n",
    "\n",
    "    for divisor in range(3, sqr, 2):\n",
    "        if n % divisor == 0:\n",
    "            return False\n",
    "    return True\n",
    "\n",
    "# STEP 2: PANDIGITAL PERMUTATIONS\n",
    "import itertools\n",
    "\n",
    "def permut (n):\n",
    "    perm = list(itertools.permutations([i for i in range(1,n+1)]))\n",
    "\n",
    "    new_perm = []\n",
    "    for i in range(len(perm)):\n",
    "        d = \"\"\n",
    "        for j in perm[i]:\n",
    "            d += str(j)\n",
    "        d = int(d)\n",
    "        if (isPrime(d)):\n",
    "            new_perm.append(int(d))\n",
    "\n",
    "    return(new_perm)\n",
    "\n",
    "\n",
    "# STEP 3: SOLUTION\n",
    "for i in range(9,0,-1):\n",
    "    n = permut(i)\n",
    "    if (n == []):\n",
    "        continue\n",
    "    else:\n",
    "        result = n[-1]\n",
    "        break\n",
    "    \n",
    "print(result) #7652413"
   ]
  },
  {
   "cell_type": "markdown",
   "metadata": {},
   "source": [
    "# 42.) Coded Triangle Numbers\n",
    "\n",
    "The $n^{th}$ term of the sequence of triangle numbers is given by, $t_n = ½n(n+1)$; so the first ten triangle numbers are:\n",
    "\n",
    "$$1, 3, 6, 10, 15, 21, 28, 36, 45, 55, ...$$\n",
    "\n",
    "By converting each letter in a word to a number corresponding to its alphabetical position and adding these values we form a word value. For example, the word value for SKY is 19 + 11 + 25 = 55 = t10. If the word value is a triangle number then we shall call the word a triangle word.\n",
    "\n",
    "Using [words.txt](https://projecteuler.net/project/resources/p042_words.txt) (right click and 'Save Link/Target As...'), a 16K text file containing nearly two-thousand common English words, how many are triangle words?"
   ]
  },
  {
   "cell_type": "code",
   "execution_count": 59,
   "metadata": {},
   "outputs": [
    {
     "name": "stdout",
     "output_type": "stream",
     "text": [
      "162\n"
     ]
    }
   ],
   "source": [
    "# STEP 1: IMPORTING WORDS\n",
    "\n",
    "words = open('p042_words.txt', 'r').read().split(\"\\\",\\\"\")\n",
    "\n",
    "words[0] = words[0][1:]\n",
    "words[-1] = words[-1][:-1]\n",
    "\n",
    "# STEP 2: LETTERS DICTIONARY \n",
    "\n",
    "letters = {}\n",
    "alphabet = \"ABCDEFGHIJKLMNOPQRSTUVWXYZ\"\n",
    "\n",
    "pos = 1\n",
    "for letter in alphabet:\n",
    "    letters[letter] = pos\n",
    "    pos += 1\n",
    "\n",
    "# STEP 3: WORD VALUE\n",
    "def wordValue(name):\n",
    "    \n",
    "    score = 0\n",
    "    for letter in name:\n",
    "        score += letters[letter]\n",
    "    \n",
    "    return(score)\n",
    "\n",
    "# Max number for triangle upper bound\n",
    "value_list = [wordValue(i) for i in words]\n",
    "limit = max(value_list) #192\n",
    "\n",
    "# STEP 4: TRIANGLE NUMBERS\n",
    "def triangle(n):\n",
    "    return (n*(n+1)/2)\n",
    "\n",
    "triangle_numbers = []\n",
    "\n",
    "t = 1\n",
    "while (triangle(t) < limit+1):\n",
    "    triangle_numbers.append(int(triangle(t)))\n",
    "    t += 1\n",
    "\n",
    "# STEP 5: SOLUTION\n",
    "\n",
    "result = 0\n",
    "\n",
    "for value in value_list:\n",
    "    if (value in triangle_numbers):\n",
    "        result += 1\n",
    "        \n",
    "print(result) #162"
   ]
  },
  {
   "cell_type": "markdown",
   "metadata": {},
   "source": [
    "# 43.) Sub-String Divisibility\n",
    "\n",
    "The number, 1406357289, is a 0 to 9 pandigital number because it is made up of each of the digits 0 to 9 in some order, but it also has a rather interesting sub-string divisibility property.\n",
    "\n",
    "Let d1 be the 1st digit, d2 be the 2nd digit, and so on. In this way, we note the following:\n",
    "\n",
    "- d2d3d4=406 is divisible by 2\n",
    "- d3d4d5=063 is divisible by 3\n",
    "- d4d5d6=635 is divisible by 5\n",
    "- d5d6d7=357 is divisible by 7\n",
    "- d6d7d8=572 is divisible by 11\n",
    "- d7d8d9=728 is divisible by 13\n",
    "- d8d9d10=289 is divisible by 17\n",
    "\n",
    "Find the sum of all 0 to 9 pandigital numbers with this property."
   ]
  },
  {
   "cell_type": "code",
   "execution_count": 77,
   "metadata": {},
   "outputs": [
    {
     "name": "stdout",
     "output_type": "stream",
     "text": [
      "16695334890\n"
     ]
    }
   ],
   "source": [
    "# STEP 1: DIVISIBILITY PROPERTY\n",
    "def isDivProperty(n):\n",
    "    n = \"0\"+str(n)\n",
    "    div = [1,1,2,3,5,7,11,13,17]\n",
    "\n",
    "    for i in range(len(div)):\n",
    "        if (int(n[i:i+3]) % div[i] != 0):\n",
    "            return (False)\n",
    "    return (True)\n",
    "\n",
    "\n",
    "# STEP 2: PANDIGITAL PERMUTATIONS\n",
    "import itertools\n",
    "\n",
    "perm = list(itertools.permutations([i for i in range(10)]))\n",
    "\n",
    "new_perm = []\n",
    "for i in range(len(perm)):\n",
    "    d = \"\"\n",
    "    for j in perm[i]:\n",
    "        d += str(j)\n",
    "    d = int(d)\n",
    "    if (isDivProperty(d)):\n",
    "        new_perm.append(d)\n",
    "\n",
    "result = sum(new_perm)\n",
    "\n",
    "print(result) #16695334890"
   ]
  },
  {
   "cell_type": "markdown",
   "metadata": {},
   "source": [
    "# 44.) Pentagon Numbers\n",
    "\n",
    "Pentagonal numbers are generated by the formula, $P_n=n(3n−1)/2$. The first ten pentagonal numbers are:\n",
    "\n",
    "$$1, 5, 12, 22, 35, 51, 70, 92, 117, 145, ...$$\n",
    "\n",
    "It can be seen that $P_4 + P_7 = 22 + 70 = 92 = P_8$. However, their difference, 70 − 22 = 48, is not pentagonal.\n",
    "\n",
    "Find the pair of pentagonal numbers, $P_j$ and $P_k$, for which their sum and difference are pentagonal and $D = |P_k − P_j|$ is minimised; what is the value of D?"
   ]
  },
  {
   "cell_type": "code",
   "execution_count": 100,
   "metadata": {},
   "outputs": [
    {
     "name": "stdout",
     "output_type": "stream",
     "text": [
      "5482660\n"
     ]
    }
   ],
   "source": [
    "# STEP 1: CHECKING A PENTAGON NUMBER\n",
    "\n",
    "# Pentagon creation\n",
    "def pentagon(n):\n",
    "    return (int(n*(3*n-1)/2))\n",
    "\n",
    "# Inverse function\n",
    "def inversePentagon(n):\n",
    "    inverse = [(1+(1+24*n)**0.5)/6, (1-(1+24*n)**0.5)/6]\n",
    "    return(inverse)\n",
    "    \n",
    "# Pentagon check\n",
    "def isPentagon(n):\n",
    "    inverse = inversePentagon(n)\n",
    "    if(inverse[0]==int(inverse[0]) or inverse[0]==int(inverse[0])):\n",
    "        return (True)\n",
    "    else:\n",
    "        return (False)\n",
    "\n",
    "# STEP 2: SOLUTION\n",
    "\n",
    "result = 0\n",
    "\n",
    "j = 1\n",
    "while(result == 0):\n",
    "    for k in range(j,0,-1):\n",
    "        plus = pentagon(k) + pentagon(j)\n",
    "        diff = abs(pentagon(k) - pentagon(j))\n",
    "        if (isPentagon(plus) and isPentagon(diff)):\n",
    "            result = diff\n",
    "            break\n",
    "    j += 1\n",
    "\n",
    "print(result) #5482660"
   ]
  },
  {
   "cell_type": "markdown",
   "metadata": {},
   "source": [
    "# 45.) Triangular, Pentagonal, and Hexagonal\n",
    "\n",
    "Triangle, pentagonal, and hexagonal numbers are generated by the following formulas:\n",
    "\n",
    "Triangle\t \t $$T_n=n(n+1)/2 \\;\\;\\;\t \t1, 3, 6, 10, 15, ... $$\n",
    "Pentagonal\t$$P_n=n(3n−1)/2\t\\;\\;\\; \t1, 5, 12, 22, 35, ...$$\n",
    "Hexagonal\t     $$H_n=n(2n−1) \\;\\;\\; \t1, 6, 15, 28, 45, ...$$\n",
    "It can be verified that $T_{285} = P_{165} = H_{143} = 40755$.\n",
    "\n",
    "Find the next triangle number that is also pentagonal and hexagonal."
   ]
  },
  {
   "cell_type": "code",
   "execution_count": 103,
   "metadata": {},
   "outputs": [
    {
     "name": "stdout",
     "output_type": "stream",
     "text": [
      "1533776805\n"
     ]
    }
   ],
   "source": [
    "# STEP 1: TRIANGLE\n",
    "\n",
    "def triangle(n):\n",
    "    return (n*(n+1)/2)\n",
    "\n",
    "# STEP 2: PENTAGON HEXAGON CHECK\n",
    "\n",
    "# Pentagon check\n",
    "def isPentagon(n):\n",
    "    inverse = [(1+(1+24*n)**0.5)/6, (1-(1+24*n)**0.5)/6]\n",
    "    if(inverse[0]==int(inverse[0]) or inverse[0]==int(inverse[0])):\n",
    "        return (True)\n",
    "    else:\n",
    "        return (False)\n",
    "    \n",
    "# Hexagon check\n",
    "def isHexagon(n):\n",
    "    inverse = [(1+(1+8*n)**0.5)/4, (1-(1+8*n)**0.5)/4]\n",
    "    if(inverse[0]==int(inverse[0]) or inverse[0]==int(inverse[0])):\n",
    "        return (True)\n",
    "    else:\n",
    "        return (False)\n",
    "\n",
    "# STEP 3: SOLUTION\n",
    "\n",
    "i = 286\n",
    "\n",
    "solved = False\n",
    "\n",
    "while(not solved):\n",
    "    n = triangle(i)\n",
    "    if (isPentagon(n) and isHexagon(n)):\n",
    "        result = n\n",
    "        solved = True\n",
    "    else:\n",
    "        i +=1\n",
    "\n",
    "print (int(result)) #1533776805"
   ]
  }
 ],
 "metadata": {
  "kernelspec": {
   "display_name": "Python 3",
   "language": "python",
   "name": "python3"
  },
  "language_info": {
   "codemirror_mode": {
    "name": "ipython",
    "version": 3
   },
   "file_extension": ".py",
   "mimetype": "text/x-python",
   "name": "python",
   "nbconvert_exporter": "python",
   "pygments_lexer": "ipython3",
   "version": "3.8.5"
  }
 },
 "nbformat": 4,
 "nbformat_minor": 4
}
